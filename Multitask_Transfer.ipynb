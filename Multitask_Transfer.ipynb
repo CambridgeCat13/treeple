{
  "nbformat": 4,
  "nbformat_minor": 0,
  "metadata": {
    "colab": {
      "provenance": []
    },
    "kernelspec": {
      "name": "python3",
      "display_name": "Python 3"
    },
    "language_info": {
      "name": "python"
    }
  },
  "cells": [
    {
      "cell_type": "markdown",
      "source": [
        "# Transfer Efficiency Testing with SPORF, MORF and Honest Forest\n",
        "Here we assess transfer learning efficacy of SPORF, MORF and Honest Forest model over MNIST ➔ Fashion-MNIST tasks. We concentrate on the very-small target training sizes (0.1%–1%) to identify when transfer learning works because we aiming to show that the multitask classifier can harness the source domain data to improve performance in the severe data-limiting condition of the target domain. The second objective here is to know when transfer learning significantly increases the accuracy of the predictions and in the process to give evidence that the multitask classifier is functioning."
      ],
      "metadata": {
        "id": "I1_-497pKKdq"
      }
    },
    {
      "cell_type": "markdown",
      "source": [
        "##Package Loading"
      ],
      "metadata": {
        "id": "Kjj65B28_d0y"
      }
    },
    {
      "cell_type": "code",
      "execution_count": null,
      "metadata": {
        "id": "MLTMD6wv9AGq"
      },
      "outputs": [],
      "source": [
        "!pip install git+https://github.com/neurodata/treeple.git"
      ]
    },
    {
      "cell_type": "code",
      "source": [
        "!pip install proglearn"
      ],
      "metadata": {
        "id": "WwWV20EI9n_N"
      },
      "execution_count": null,
      "outputs": []
    },
    {
      "cell_type": "code",
      "source": [
        "import numpy as np\n",
        "from sklearn.metrics import accuracy_score\n",
        "from sklearn.model_selection import train_test_split\n",
        "from tensorflow.keras.datasets import mnist, fashion_mnist\n",
        "from treeple import ObliqueRandomForestClassifier, PatchObliqueRandomForestClassifier, HonestForestClassifier"
      ],
      "metadata": {
        "id": "ZSU8vg6m9sbc"
      },
      "execution_count": null,
      "outputs": []
    },
    {
      "cell_type": "markdown",
      "source": [
        "## Multitask Classfier"
      ],
      "metadata": {
        "id": "5VMRJzdb_i9W"
      }
    },
    {
      "cell_type": "code",
      "source": [
        "\"\"\"\n",
        "MultiTaskForestClassifier:\n",
        "A unified multi-task learning wrapper for SPORF, MORF, and HonestForest.\n",
        "Trains on all tasks jointly and evaluates per-task performance.\n",
        "\"\"\"\n",
        "\n",
        "class MultiTaskForestClassifier:\n",
        "    def __init__(self, clf_type=\"SPORF\", task_ratios=None, random_state=42, **kwargs):\n",
        "        if clf_type == \"SPORF\":\n",
        "            self.model_cls = ObliqueRandomForestClassifier\n",
        "            self.default_params = {\n",
        "                \"n_estimators\": 200,\n",
        "                \"feature_combinations\": 2.0,\n",
        "                \"max_depth\": 20,\n",
        "                \"min_samples_split\": 5,\n",
        "                \"min_samples_leaf\": 1,\n",
        "                \"max_features\": 0.5,\n",
        "                \"bootstrap\": True\n",
        "            }\n",
        "        elif clf_type == \"MORF\":\n",
        "            self.model_cls = PatchObliqueRandomForestClassifier\n",
        "            self.default_params = {\n",
        "                \"n_estimators\": 200\n",
        "             }\n",
        "        elif clf_type == \"HonestForest\":\n",
        "            self.model_cls = HonestForestClassifier\n",
        "            self.default_params = {\n",
        "\n",
        "                \"n_estimators\": 200,\n",
        "                \"max_depth\": None,\n",
        "                \"min_samples_split\": 2,\n",
        "                \"min_samples_leaf\": 5,\n",
        "                \"bootstrap\": True,\n",
        "                \"max_features\": \"sqrt\"\n",
        "             }\n",
        "        else:\n",
        "            raise ValueError(f\"Unsupported tree: {clf_type}\")\n",
        "\n",
        "        self.params = {**self.default_params, **kwargs}\n",
        "        self.model = None\n",
        "        self.task_data = {}\n",
        "\n",
        "        if task_ratios is None:\n",
        "            warnings.warn(\"No task_ratios provided. Using default {0: 0.5, 1: 0.5}. Override if needed.\")\n",
        "            self.task_ratios = {0: 0.5, 1: 0.5}\n",
        "        else:\n",
        "            self.task_ratios = task_ratios\n",
        "\n",
        "\n",
        "        self.random_state = random_state\n",
        "\n",
        "\n",
        "    def add_task(self, task_id, X, y, test_size=0.2):\n",
        "        if test_size > 0:\n",
        "            X_train, X_test, y_train, y_test = train_test_split(\n",
        "                X, y,\n",
        "                test_size=test_size,\n",
        "                stratify=y,\n",
        "                random_state=self.random_state\n",
        "            )\n",
        "        else:\n",
        "            X_train, y_train = X, y\n",
        "            X_test, y_test = None, None\n",
        "\n",
        "        self.task_data[task_id] = {\n",
        "            \"train\": (X_train, y_train),\n",
        "            \"test\": (X_test, y_test)\n",
        "        }\n",
        "\n",
        "\n",
        "    def get_task_ids(self):\n",
        "      return list(self.task_data.keys())\n",
        "\n",
        "    def fit(self):\n",
        "        \"\"\"Train on all tasks jointly (multi-task learning).\"\"\"\n",
        "        X_all, y_all, task_labels = [], [], []\n",
        "        for task_id, data in self.task_data.items():\n",
        "            X, y = data[\"train\"]\n",
        "            X_all.append(X)\n",
        "            y_all.append(y)\n",
        "            task_labels.append(np.full(len(y), task_id))\n",
        "\n",
        "        X_all = np.vstack(X_all)\n",
        "        y_all = np.concatenate(y_all)\n",
        "        task_labels = np.concatenate(task_labels)\n",
        "        X_all = np.column_stack((X_all, task_labels))\n",
        "\n",
        "        self.model = self.model_cls(**self.params, random_state=42)\n",
        "        self.model.fit(X_all, y_all)\n",
        "\n",
        "    def predict(self, X, task_id):\n",
        "        \"\"\"Make predictions for a specific task.\"\"\"\n",
        "        X_task = np.column_stack((X, np.full(len(X), task_id)))\n",
        "        return self.model.predict(X_task)\n",
        "\n",
        "\n",
        "    def score(self, task_id):\n",
        "        \"\"\"Return accuracy on the held-out test set for a specific task.\"\"\"\n",
        "        X_test, y_test = self.task_data[task_id][\"test\"]\n",
        "        return accuracy_score(y_test, self.predict(X_test, task_id))\n",
        "\n",
        "def evaluate_transfer_efficiency(\n",
        "    X_source, y_source,\n",
        "    X_target, y_target,\n",
        "    target_ratios=[0.01],\n",
        "    seed=42,\n",
        "    clf_type=\"SPORF\"  #\"SPORF\", \"MORF\", \"HonestForest\"\n",
        "):\n",
        "    \"\"\"\n",
        "    Evaluate transfer efficiency using the specified classifier type.\n",
        "    Fixes train/test split (80/20), and varies how much target training data is used.\n",
        "    \"\"\"\n",
        "    assert clf_type in [\"SPORF\", \"MORF\", \"HonestForest\"], f\"Invalid clf_type: {clf_type}\"\n",
        "    print(f\"\\n=== Transfer Efficiency using {clf_type} ===\")\n",
        "    X_train_source, X_test_source, y_train_source, y_test_source = train_test_split(\n",
        "        X_source, y_source, test_size=0.2, stratify=y_source, random_state=seed\n",
        "    )\n",
        "    X_train_target, X_test_target, y_train_target, y_test_target = train_test_split(\n",
        "        X_target, y_target, test_size=0.2, stratify=y_target, random_state=seed\n",
        "    )\n",
        "\n",
        "    for ratio in target_ratios:\n",
        "        if ratio < 1.0:\n",
        "            X_train_target_sub, _, y_train_target_sub, _ = train_test_split(\n",
        "                X_train_target, y_train_target,\n",
        "                train_size=ratio,\n",
        "                stratify=y_train_target,\n",
        "                random_state=seed\n",
        "            )\n",
        "        else:\n",
        "            X_train_target_sub, y_train_target_sub = X_train_target, y_train_target\n",
        "        clf_base = MultiTaskForestClassifier(\n",
        "            clf_type=clf_type,\n",
        "            task_ratios={1: 1.0},\n",
        "            random_state=seed\n",
        "        )\n",
        "        clf_base.add_task(1, X_train_target_sub, y_train_target_sub, test_size=0)\n",
        "        clf_base.fit()\n",
        "        acc_base = accuracy_score(y_test_target, clf_base.predict(X_test_target, task_id=1))\n",
        "        clf_transfer = MultiTaskForestClassifier(\n",
        "            clf_type=clf_type,\n",
        "            task_ratios={0: 1.0, 1: 1.0},\n",
        "            random_state=seed\n",
        "        )\n",
        "        clf_transfer.add_task(0, X_train_source, y_train_source, test_size=0)\n",
        "        clf_transfer.add_task(1, X_train_target_sub, y_train_target_sub, test_size=0)\n",
        "        clf_transfer.fit()\n",
        "        acc_transfer = accuracy_score(y_test_target, clf_transfer.predict(X_test_target, task_id=1))\n",
        "        num_samples = len(X_train_target_sub)\n",
        "        print(f\"Target Task Ratio: {ratio:.4f} ({num_samples} samples)\")\n",
        "        print(f\"  Baseline (Source 0%):   Accuracy = {acc_base:.3f}\")\n",
        "        print(f\"  Transfer (Source 100%): Accuracy = {acc_transfer:.3f}\")\n",
        "        print(\"-\" * 50)"
      ],
      "metadata": {
        "id": "hEhVvLA69CO-"
      },
      "execution_count": null,
      "outputs": []
    },
    {
      "cell_type": "markdown",
      "source": [
        "##SPORF using the Multitask Clf\n",
        "**Task:** MNIST (classes 0 and 1) → FashionMNIST (classes 0 and 1) transfer\n",
        "\n",
        "**Model:** SPORF (Oblique Random Forest Classifier)\n",
        "\n",
        "**Goal:**  \n",
        "- Test transfer efficiency at extremely small target data ratios: 0.1%, 0.2%, 0.5%, 1%.  \n",
        "- Compare baseline (no transfer) vs. full transfer (source 100%).  \n",
        "- Report both **target ratio** and **number of samples** used.\n",
        "\n",
        "---"
      ],
      "metadata": {
        "id": "ZWX_r9il9fwe"
      }
    },
    {
      "cell_type": "code",
      "source": [
        "(X_mnist_train, y_mnist_train), (X_mnist_test, y_mnist_test) = mnist.load_data()\n",
        "(X_fashion_train, y_fashion_train), (X_fashion_test, y_fashion_test) = fashion_mnist.load_data()\n",
        "X_mnist = np.concatenate([X_mnist_train, X_mnist_test]).reshape(-1, 28*28) / 255.0\n",
        "y_mnist = np.concatenate([y_mnist_train, y_mnist_test])\n",
        "X_fashion = np.concatenate([X_fashion_train, X_fashion_test]).reshape(-1, 28*28) / 255.0\n",
        "y_fashion = np.concatenate([y_fashion_train, y_fashion_test])\n",
        "chosen_classes = [0, 1]\n",
        "\n",
        "mnist_mask = np.isin(y_mnist, chosen_classes)\n",
        "fashion_mask = np.isin(y_fashion, chosen_classes)\n",
        "\n",
        "X_mnist = X_mnist[mnist_mask]\n",
        "y_mnist = y_mnist[mnist_mask]\n",
        "X_fashion = X_fashion[fashion_mask]\n",
        "y_fashion = y_fashion[fashion_mask]\n",
        "y_mnist = np.where(y_mnist == chosen_classes[0], 0, 1)\n",
        "y_fashion = np.where(y_fashion == chosen_classes[0], 0, 1)\n",
        "\n",
        "subset = 10000\n",
        "X_mnist, y_mnist = X_mnist[:subset], y_mnist[:subset]\n",
        "X_fashion, y_fashion = X_fashion[:subset], y_fashion[:subset]\n",
        "\n",
        "evaluate_transfer_efficiency(\n",
        "    X_source=X_mnist,\n",
        "    y_source=y_mnist,\n",
        "    X_target=X_fashion,\n",
        "    y_target=y_fashion,\n",
        "    target_ratios=[0.001, 0.002, 0.005, 0.01],\n",
        "    seed=42,\n",
        "    clf_type=\"SPORF\"\n",
        ")"
      ],
      "metadata": {
        "colab": {
          "base_uri": "https://localhost:8080/"
        },
        "id": "lqBTcTOU9dLq",
        "outputId": "01a73f69-a007-4b71-b6b3-ee98c43a0969"
      },
      "execution_count": null,
      "outputs": [
        {
          "output_type": "stream",
          "name": "stdout",
          "text": [
            "\n",
            "=== Transfer Efficiency using SPORF ===\n",
            "Target Task Ratio: 0.0010 (8 samples)\n",
            "  Baseline (Source 0%):   Accuracy = 0.918\n",
            "  Transfer (Source 100%): Accuracy = 0.909\n",
            "--------------------------------------------------\n",
            "Target Task Ratio: 0.0020 (16 samples)\n",
            "  Baseline (Source 0%):   Accuracy = 0.874\n",
            "  Transfer (Source 100%): Accuracy = 0.940\n",
            "--------------------------------------------------\n",
            "Target Task Ratio: 0.0050 (40 samples)\n",
            "  Baseline (Source 0%):   Accuracy = 0.967\n",
            "  Transfer (Source 100%): Accuracy = 0.961\n",
            "--------------------------------------------------\n",
            "Target Task Ratio: 0.0100 (80 samples)\n",
            "  Baseline (Source 0%):   Accuracy = 0.980\n",
            "  Transfer (Source 100%): Accuracy = 0.971\n",
            "--------------------------------------------------\n"
          ]
        }
      ]
    },
    {
      "cell_type": "markdown",
      "source": [
        "###Results: Transfer Efficiency using SPORF (MNIST ➔ Fashion-MNIST)\n",
        "\n",
        "| Target Ratio | # Samples | Baseline Accuracy (Source 0%) | Transfer Accuracy (Source 100%) | Interpretation |\n",
        "|:------------:|:---------:|:-----------------------------:|:-------------------------------:|:--------------:|\n",
        "| 0.1%         | 8         | 0.918                         | 0.909                           | Noise (not meaningful) |\n",
        "| 0.2%         | 16        | 0.874                         | 0.940                           | Successful Transfer |\n",
        "| 0.5%         | 40        | 0.967                         | 0.961                           | Noise (small fluctuation) |\n",
        "| 1.0%         | 80        | 0.980                         | 0.971                           | Noise (small fluctuation) |\n",
        "\n",
        "---\n",
        "\n",
        "###Summary:\n",
        "\n",
        "- At **0.2%** (16 samples), **transfer learning improves accuracy** compared to baseline.\n",
        "- Other ratios (0.1%, 0.5%, 1.0%) show minor variations, but no clear benefit — mostly **noise**.\n",
        "- **Conclusion**: Transfer learning using SPORF is effective when training data is extremely limited."
      ],
      "metadata": {
        "id": "c7BJr5xuJB96"
      }
    }
  ]
}